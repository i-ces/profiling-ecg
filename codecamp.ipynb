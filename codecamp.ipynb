{
 "cells": [
  {
   "cell_type": "code",
   "execution_count": 1,
   "metadata": {},
   "outputs": [],
   "source": [
    "import numpy as np\n",
    "import pandas as pd\n",
    "import matplotlib.pyplot as plt\n",
    "from sklearn.utils import shuffle\n",
    "import random"
   ]
  },
  {
   "cell_type": "code",
   "execution_count": 2,
   "metadata": {},
   "outputs": [
    {
     "name": "stdout",
     "output_type": "stream",
     "text": [
      "/home/sulav\n"
     ]
    }
   ],
   "source": [
    "cd"
   ]
  },
  {
   "cell_type": "code",
   "execution_count": 3,
   "metadata": {},
   "outputs": [],
   "source": [
    "train_df = pd.read_csv('./Downloads/Compressed/heartbeat/train.csv',header=None)"
   ]
  },
  {
   "cell_type": "code",
   "execution_count": 8,
   "metadata": {},
   "outputs": [
    {
     "data": {
      "text/html": [
       "<div>\n",
       "<style scoped>\n",
       "    .dataframe tbody tr th:only-of-type {\n",
       "        vertical-align: middle;\n",
       "    }\n",
       "\n",
       "    .dataframe tbody tr th {\n",
       "        vertical-align: top;\n",
       "    }\n",
       "\n",
       "    .dataframe thead th {\n",
       "        text-align: right;\n",
       "    }\n",
       "</style>\n",
       "<table border=\"1\" class=\"dataframe\">\n",
       "  <thead>\n",
       "    <tr style=\"text-align: right;\">\n",
       "      <th></th>\n",
       "      <th>0</th>\n",
       "      <th>1</th>\n",
       "      <th>2</th>\n",
       "      <th>3</th>\n",
       "      <th>4</th>\n",
       "      <th>5</th>\n",
       "      <th>6</th>\n",
       "      <th>7</th>\n",
       "      <th>8</th>\n",
       "      <th>9</th>\n",
       "      <th>...</th>\n",
       "      <th>178</th>\n",
       "      <th>179</th>\n",
       "      <th>180</th>\n",
       "      <th>181</th>\n",
       "      <th>182</th>\n",
       "      <th>183</th>\n",
       "      <th>184</th>\n",
       "      <th>185</th>\n",
       "      <th>186</th>\n",
       "      <th>187</th>\n",
       "    </tr>\n",
       "  </thead>\n",
       "  <tbody>\n",
       "    <tr>\n",
       "      <th>0</th>\n",
       "      <td>0.977941</td>\n",
       "      <td>0.926471</td>\n",
       "      <td>0.681373</td>\n",
       "      <td>0.245098</td>\n",
       "      <td>0.154412</td>\n",
       "      <td>0.191176</td>\n",
       "      <td>0.151961</td>\n",
       "      <td>0.085784</td>\n",
       "      <td>0.058824</td>\n",
       "      <td>0.049020</td>\n",
       "      <td>...</td>\n",
       "      <td>0.0</td>\n",
       "      <td>0.0</td>\n",
       "      <td>0.0</td>\n",
       "      <td>0.0</td>\n",
       "      <td>0.0</td>\n",
       "      <td>0.0</td>\n",
       "      <td>0.0</td>\n",
       "      <td>0.0</td>\n",
       "      <td>0.0</td>\n",
       "      <td>0.0</td>\n",
       "    </tr>\n",
       "    <tr>\n",
       "      <th>1</th>\n",
       "      <td>0.960114</td>\n",
       "      <td>0.863248</td>\n",
       "      <td>0.461538</td>\n",
       "      <td>0.196581</td>\n",
       "      <td>0.094017</td>\n",
       "      <td>0.125356</td>\n",
       "      <td>0.099715</td>\n",
       "      <td>0.088319</td>\n",
       "      <td>0.074074</td>\n",
       "      <td>0.082621</td>\n",
       "      <td>...</td>\n",
       "      <td>0.0</td>\n",
       "      <td>0.0</td>\n",
       "      <td>0.0</td>\n",
       "      <td>0.0</td>\n",
       "      <td>0.0</td>\n",
       "      <td>0.0</td>\n",
       "      <td>0.0</td>\n",
       "      <td>0.0</td>\n",
       "      <td>0.0</td>\n",
       "      <td>0.0</td>\n",
       "    </tr>\n",
       "    <tr>\n",
       "      <th>2</th>\n",
       "      <td>1.000000</td>\n",
       "      <td>0.659459</td>\n",
       "      <td>0.186486</td>\n",
       "      <td>0.070270</td>\n",
       "      <td>0.070270</td>\n",
       "      <td>0.059459</td>\n",
       "      <td>0.056757</td>\n",
       "      <td>0.043243</td>\n",
       "      <td>0.054054</td>\n",
       "      <td>0.045946</td>\n",
       "      <td>...</td>\n",
       "      <td>0.0</td>\n",
       "      <td>0.0</td>\n",
       "      <td>0.0</td>\n",
       "      <td>0.0</td>\n",
       "      <td>0.0</td>\n",
       "      <td>0.0</td>\n",
       "      <td>0.0</td>\n",
       "      <td>0.0</td>\n",
       "      <td>0.0</td>\n",
       "      <td>0.0</td>\n",
       "    </tr>\n",
       "    <tr>\n",
       "      <th>3</th>\n",
       "      <td>0.925414</td>\n",
       "      <td>0.665746</td>\n",
       "      <td>0.541436</td>\n",
       "      <td>0.276243</td>\n",
       "      <td>0.196133</td>\n",
       "      <td>0.077348</td>\n",
       "      <td>0.071823</td>\n",
       "      <td>0.060773</td>\n",
       "      <td>0.066298</td>\n",
       "      <td>0.058011</td>\n",
       "      <td>...</td>\n",
       "      <td>0.0</td>\n",
       "      <td>0.0</td>\n",
       "      <td>0.0</td>\n",
       "      <td>0.0</td>\n",
       "      <td>0.0</td>\n",
       "      <td>0.0</td>\n",
       "      <td>0.0</td>\n",
       "      <td>0.0</td>\n",
       "      <td>0.0</td>\n",
       "      <td>0.0</td>\n",
       "    </tr>\n",
       "    <tr>\n",
       "      <th>4</th>\n",
       "      <td>0.967136</td>\n",
       "      <td>1.000000</td>\n",
       "      <td>0.830986</td>\n",
       "      <td>0.586854</td>\n",
       "      <td>0.356808</td>\n",
       "      <td>0.248826</td>\n",
       "      <td>0.145540</td>\n",
       "      <td>0.089202</td>\n",
       "      <td>0.117371</td>\n",
       "      <td>0.150235</td>\n",
       "      <td>...</td>\n",
       "      <td>0.0</td>\n",
       "      <td>0.0</td>\n",
       "      <td>0.0</td>\n",
       "      <td>0.0</td>\n",
       "      <td>0.0</td>\n",
       "      <td>0.0</td>\n",
       "      <td>0.0</td>\n",
       "      <td>0.0</td>\n",
       "      <td>0.0</td>\n",
       "      <td>0.0</td>\n",
       "    </tr>\n",
       "    <tr>\n",
       "      <th>5</th>\n",
       "      <td>0.927461</td>\n",
       "      <td>1.000000</td>\n",
       "      <td>0.626943</td>\n",
       "      <td>0.193437</td>\n",
       "      <td>0.094991</td>\n",
       "      <td>0.072539</td>\n",
       "      <td>0.043178</td>\n",
       "      <td>0.053541</td>\n",
       "      <td>0.093264</td>\n",
       "      <td>0.189983</td>\n",
       "      <td>...</td>\n",
       "      <td>0.0</td>\n",
       "      <td>0.0</td>\n",
       "      <td>0.0</td>\n",
       "      <td>0.0</td>\n",
       "      <td>0.0</td>\n",
       "      <td>0.0</td>\n",
       "      <td>0.0</td>\n",
       "      <td>0.0</td>\n",
       "      <td>0.0</td>\n",
       "      <td>0.0</td>\n",
       "    </tr>\n",
       "    <tr>\n",
       "      <th>6</th>\n",
       "      <td>0.423611</td>\n",
       "      <td>0.791667</td>\n",
       "      <td>1.000000</td>\n",
       "      <td>0.256944</td>\n",
       "      <td>0.000000</td>\n",
       "      <td>0.277778</td>\n",
       "      <td>0.465278</td>\n",
       "      <td>0.520833</td>\n",
       "      <td>0.472222</td>\n",
       "      <td>0.555556</td>\n",
       "      <td>...</td>\n",
       "      <td>0.0</td>\n",
       "      <td>0.0</td>\n",
       "      <td>0.0</td>\n",
       "      <td>0.0</td>\n",
       "      <td>0.0</td>\n",
       "      <td>0.0</td>\n",
       "      <td>0.0</td>\n",
       "      <td>0.0</td>\n",
       "      <td>0.0</td>\n",
       "      <td>0.0</td>\n",
       "    </tr>\n",
       "    <tr>\n",
       "      <th>7</th>\n",
       "      <td>0.716814</td>\n",
       "      <td>0.539823</td>\n",
       "      <td>0.283186</td>\n",
       "      <td>0.129794</td>\n",
       "      <td>0.064897</td>\n",
       "      <td>0.076696</td>\n",
       "      <td>0.026549</td>\n",
       "      <td>0.032448</td>\n",
       "      <td>0.008850</td>\n",
       "      <td>0.044248</td>\n",
       "      <td>...</td>\n",
       "      <td>0.0</td>\n",
       "      <td>0.0</td>\n",
       "      <td>0.0</td>\n",
       "      <td>0.0</td>\n",
       "      <td>0.0</td>\n",
       "      <td>0.0</td>\n",
       "      <td>0.0</td>\n",
       "      <td>0.0</td>\n",
       "      <td>0.0</td>\n",
       "      <td>0.0</td>\n",
       "    </tr>\n",
       "    <tr>\n",
       "      <th>8</th>\n",
       "      <td>0.874214</td>\n",
       "      <td>0.849057</td>\n",
       "      <td>0.480084</td>\n",
       "      <td>0.058700</td>\n",
       "      <td>0.090147</td>\n",
       "      <td>0.310273</td>\n",
       "      <td>0.387841</td>\n",
       "      <td>0.385744</td>\n",
       "      <td>0.389937</td>\n",
       "      <td>0.392034</td>\n",
       "      <td>...</td>\n",
       "      <td>0.0</td>\n",
       "      <td>0.0</td>\n",
       "      <td>0.0</td>\n",
       "      <td>0.0</td>\n",
       "      <td>0.0</td>\n",
       "      <td>0.0</td>\n",
       "      <td>0.0</td>\n",
       "      <td>0.0</td>\n",
       "      <td>0.0</td>\n",
       "      <td>0.0</td>\n",
       "    </tr>\n",
       "    <tr>\n",
       "      <th>9</th>\n",
       "      <td>1.000000</td>\n",
       "      <td>0.996086</td>\n",
       "      <td>0.694716</td>\n",
       "      <td>0.336595</td>\n",
       "      <td>0.238748</td>\n",
       "      <td>0.268102</td>\n",
       "      <td>0.191781</td>\n",
       "      <td>0.174168</td>\n",
       "      <td>0.164384</td>\n",
       "      <td>0.187867</td>\n",
       "      <td>...</td>\n",
       "      <td>0.0</td>\n",
       "      <td>0.0</td>\n",
       "      <td>0.0</td>\n",
       "      <td>0.0</td>\n",
       "      <td>0.0</td>\n",
       "      <td>0.0</td>\n",
       "      <td>0.0</td>\n",
       "      <td>0.0</td>\n",
       "      <td>0.0</td>\n",
       "      <td>0.0</td>\n",
       "    </tr>\n",
       "  </tbody>\n",
       "</table>\n",
       "<p>10 rows × 188 columns</p>\n",
       "</div>"
      ],
      "text/plain": [
       "        0         1         2         3         4         5         6    \\\n",
       "0  0.977941  0.926471  0.681373  0.245098  0.154412  0.191176  0.151961   \n",
       "1  0.960114  0.863248  0.461538  0.196581  0.094017  0.125356  0.099715   \n",
       "2  1.000000  0.659459  0.186486  0.070270  0.070270  0.059459  0.056757   \n",
       "3  0.925414  0.665746  0.541436  0.276243  0.196133  0.077348  0.071823   \n",
       "4  0.967136  1.000000  0.830986  0.586854  0.356808  0.248826  0.145540   \n",
       "5  0.927461  1.000000  0.626943  0.193437  0.094991  0.072539  0.043178   \n",
       "6  0.423611  0.791667  1.000000  0.256944  0.000000  0.277778  0.465278   \n",
       "7  0.716814  0.539823  0.283186  0.129794  0.064897  0.076696  0.026549   \n",
       "8  0.874214  0.849057  0.480084  0.058700  0.090147  0.310273  0.387841   \n",
       "9  1.000000  0.996086  0.694716  0.336595  0.238748  0.268102  0.191781   \n",
       "\n",
       "        7         8         9    ...  178  179  180  181  182  183  184  185  \\\n",
       "0  0.085784  0.058824  0.049020  ...  0.0  0.0  0.0  0.0  0.0  0.0  0.0  0.0   \n",
       "1  0.088319  0.074074  0.082621  ...  0.0  0.0  0.0  0.0  0.0  0.0  0.0  0.0   \n",
       "2  0.043243  0.054054  0.045946  ...  0.0  0.0  0.0  0.0  0.0  0.0  0.0  0.0   \n",
       "3  0.060773  0.066298  0.058011  ...  0.0  0.0  0.0  0.0  0.0  0.0  0.0  0.0   \n",
       "4  0.089202  0.117371  0.150235  ...  0.0  0.0  0.0  0.0  0.0  0.0  0.0  0.0   \n",
       "5  0.053541  0.093264  0.189983  ...  0.0  0.0  0.0  0.0  0.0  0.0  0.0  0.0   \n",
       "6  0.520833  0.472222  0.555556  ...  0.0  0.0  0.0  0.0  0.0  0.0  0.0  0.0   \n",
       "7  0.032448  0.008850  0.044248  ...  0.0  0.0  0.0  0.0  0.0  0.0  0.0  0.0   \n",
       "8  0.385744  0.389937  0.392034  ...  0.0  0.0  0.0  0.0  0.0  0.0  0.0  0.0   \n",
       "9  0.174168  0.164384  0.187867  ...  0.0  0.0  0.0  0.0  0.0  0.0  0.0  0.0   \n",
       "\n",
       "   186  187  \n",
       "0  0.0  0.0  \n",
       "1  0.0  0.0  \n",
       "2  0.0  0.0  \n",
       "3  0.0  0.0  \n",
       "4  0.0  0.0  \n",
       "5  0.0  0.0  \n",
       "6  0.0  0.0  \n",
       "7  0.0  0.0  \n",
       "8  0.0  0.0  \n",
       "9  0.0  0.0  \n",
       "\n",
       "[10 rows x 188 columns]"
      ]
     },
     "execution_count": 8,
     "metadata": {},
     "output_type": "execute_result"
    }
   ],
   "source": [
    "train_df.head(10)"
   ]
  },
  {
   "cell_type": "code",
   "execution_count": 9,
   "metadata": {},
   "outputs": [
    {
     "name": "stdout",
     "output_type": "stream",
     "text": [
      "(87554, 188)\n"
     ]
    }
   ],
   "source": [
    "print(train_df.shape)"
   ]
  },
  {
   "cell_type": "code",
   "execution_count": 10,
   "metadata": {},
   "outputs": [
    {
     "name": "stdout",
     "output_type": "stream",
     "text": [
      "0 23408\n",
      "1 42845\n",
      "2 49611\n",
      "3 41007\n",
      "4 39328\n",
      "5 40559\n",
      "6 40516\n",
      "7 40423\n",
      "8 40305\n",
      "9 39950\n",
      "10 40106\n",
      "11 40347\n",
      "12 40320\n",
      "13 40628\n",
      "14 41177\n",
      "15 41671\n",
      "16 42091\n",
      "17 42404\n",
      "18 42914\n",
      "19 43188\n",
      "20 43678\n",
      "21 44172\n",
      "22 44576\n",
      "23 44779\n",
      "24 45154\n",
      "25 45500\n",
      "26 45612\n",
      "27 46051\n",
      "28 46434\n",
      "29 46729\n",
      "30 46719\n",
      "31 46839\n",
      "32 46364\n",
      "33 46230\n",
      "34 46283\n",
      "35 46241\n",
      "36 46005\n",
      "37 45864\n",
      "38 45604\n",
      "39 45630\n",
      "40 45347\n",
      "41 44982\n",
      "42 44738\n",
      "43 44358\n",
      "44 44234\n",
      "45 43859\n",
      "46 43714\n",
      "47 43539\n",
      "48 43191\n",
      "49 43062\n",
      "50 43036\n",
      "51 42994\n",
      "52 42901\n",
      "53 43068\n",
      "54 43079\n",
      "55 43168\n",
      "56 43194\n",
      "57 43126\n",
      "58 43094\n",
      "59 43344\n",
      "60 43493\n",
      "61 43551\n",
      "62 43608\n",
      "63 43540\n",
      "64 43689\n",
      "65 43826\n",
      "66 43789\n",
      "67 43571\n",
      "68 43632\n",
      "69 43398\n",
      "70 43182\n",
      "71 42983\n",
      "72 42859\n",
      "73 42587\n",
      "74 42472\n",
      "75 42266\n",
      "76 42506\n",
      "77 42441\n",
      "78 42505\n",
      "79 42155\n",
      "80 41864\n",
      "81 41514\n",
      "82 41141\n",
      "83 41031\n",
      "84 40877\n",
      "85 40759\n",
      "86 40387\n",
      "87 40090\n",
      "88 39757\n",
      "89 38969\n",
      "90 38494\n",
      "91 37927\n",
      "92 37172\n",
      "93 36701\n",
      "94 36032\n",
      "95 35862\n",
      "96 35574\n",
      "97 35019\n",
      "98 34649\n",
      "99 34352\n",
      "100 33787\n",
      "101 33370\n",
      "102 32584\n",
      "103 31973\n",
      "104 31198\n",
      "105 30619\n",
      "106 29791\n",
      "107 29163\n",
      "108 28263\n",
      "109 27653\n",
      "110 26803\n",
      "111 26382\n",
      "112 25511\n",
      "113 25132\n",
      "114 24587\n",
      "115 24108\n",
      "116 23681\n",
      "117 23096\n",
      "118 22351\n",
      "119 21841\n",
      "120 21112\n",
      "121 20317\n",
      "122 19533\n",
      "123 18861\n",
      "124 18019\n",
      "125 17204\n",
      "126 16572\n",
      "127 15945\n",
      "128 15399\n",
      "129 14844\n",
      "130 14426\n",
      "131 13853\n",
      "132 13461\n",
      "133 12979\n",
      "134 12618\n",
      "135 12264\n",
      "136 11882\n",
      "137 11456\n",
      "138 11107\n",
      "139 10742\n",
      "140 10291\n",
      "141 10003\n",
      "142 9643\n",
      "143 9287\n",
      "144 8893\n",
      "145 8580\n",
      "146 8316\n",
      "147 7981\n",
      "148 7622\n",
      "149 7371\n",
      "150 7098\n",
      "151 6792\n",
      "152 6544\n",
      "153 6301\n",
      "154 6064\n",
      "155 5869\n",
      "156 5566\n",
      "157 5438\n",
      "158 5231\n",
      "159 5055\n",
      "160 4820\n",
      "161 4667\n",
      "162 4504\n",
      "163 4357\n",
      "164 4119\n",
      "165 3906\n",
      "166 3664\n",
      "167 3453\n",
      "168 3173\n",
      "169 2922\n",
      "170 2645\n",
      "171 2391\n",
      "172 2160\n",
      "173 1980\n",
      "174 1819\n",
      "175 1629\n",
      "176 1507\n",
      "177 1408\n",
      "178 1315\n",
      "179 1218\n",
      "180 1127\n",
      "181 1038\n",
      "182 968\n",
      "183 920\n",
      "184 843\n",
      "185 778\n",
      "186 748\n",
      "187 5\n",
      "(87554, 188)\n"
     ]
    }
   ],
   "source": [
    "for i in train_df:\n",
    "    print(i,train_df[i].nunique()) #printing number of distinct elements in each feature\n",
    "print(train_df.shape)"
   ]
  },
  {
   "cell_type": "code",
   "execution_count": 4,
   "metadata": {},
   "outputs": [],
   "source": [
    "numbervalue = pd.value_counts(train_df[187],sort = True) "
   ]
  },
  {
   "cell_type": "code",
   "execution_count": 12,
   "metadata": {},
   "outputs": [
    {
     "name": "stdout",
     "output_type": "stream",
     "text": [
      "0.0    72471\n",
      "4.0     6431\n",
      "2.0     5788\n",
      "1.0     2223\n",
      "3.0      641\n",
      "Name: 187, dtype: int64\n"
     ]
    }
   ],
   "source": [
    "print (numbervalue)"
   ]
  },
  {
   "cell_type": "code",
   "execution_count": 13,
   "metadata": {},
   "outputs": [
    {
     "data": {
      "text/plain": [
       "<matplotlib.axes._subplots.AxesSubplot at 0x7f6884a38b50>"
      ]
     },
     "execution_count": 13,
     "metadata": {},
     "output_type": "execute_result"
    },
    {
     "data": {
      "image/png": "[encoded data removed]",
      "text/plain": [
       "<Figure size 432x288 with 1 Axes>"
      ]
     },
     "metadata": {
      "needs_background": "light"
     },
     "output_type": "display_data"
    }
   ],
   "source": [
    "numbervalue.plot.bar()"
   ]
  },
  {
   "cell_type": "code",
   "execution_count": 5,
   "metadata": {},
   "outputs": [],
   "source": [
    "test_df = pd.read_csv('./Downloads/Compressed/heartbeat/test.csv',header=None)"
   ]
  },
  {
   "cell_type": "code",
   "execution_count": 15,
   "metadata": {},
   "outputs": [
    {
     "data": {
      "text/html": [
       "<div>\n",
       "<style scoped>\n",
       "    .dataframe tbody tr th:only-of-type {\n",
       "        vertical-align: middle;\n",
       "    }\n",
       "\n",
       "    .dataframe tbody tr th {\n",
       "        vertical-align: top;\n",
       "    }\n",
       "\n",
       "    .dataframe thead th {\n",
       "        text-align: right;\n",
       "    }\n",
       "</style>\n",
       "<table border=\"1\" class=\"dataframe\">\n",
       "  <thead>\n",
       "    <tr style=\"text-align: right;\">\n",
       "      <th></th>\n",
       "      <th>0</th>\n",
       "      <th>1</th>\n",
       "      <th>2</th>\n",
       "      <th>3</th>\n",
       "      <th>4</th>\n",
       "      <th>5</th>\n",
       "      <th>6</th>\n",
       "      <th>7</th>\n",
       "      <th>8</th>\n",
       "      <th>9</th>\n",
       "      <th>...</th>\n",
       "      <th>178</th>\n",
       "      <th>179</th>\n",
       "      <th>180</th>\n",
       "      <th>181</th>\n",
       "      <th>182</th>\n",
       "      <th>183</th>\n",
       "      <th>184</th>\n",
       "      <th>185</th>\n",
       "      <th>186</th>\n",
       "      <th>187</th>\n",
       "    </tr>\n",
       "  </thead>\n",
       "  <tbody>\n",
       "    <tr>\n",
       "      <th>0</th>\n",
       "      <td>1.000000</td>\n",
       "      <td>0.758264</td>\n",
       "      <td>0.111570</td>\n",
       "      <td>0.000000</td>\n",
       "      <td>0.080579</td>\n",
       "      <td>0.078512</td>\n",
       "      <td>0.066116</td>\n",
       "      <td>0.049587</td>\n",
       "      <td>0.047521</td>\n",
       "      <td>0.035124</td>\n",
       "      <td>...</td>\n",
       "      <td>0.0</td>\n",
       "      <td>0.0</td>\n",
       "      <td>0.0</td>\n",
       "      <td>0.0</td>\n",
       "      <td>0.0</td>\n",
       "      <td>0.0</td>\n",
       "      <td>0.0</td>\n",
       "      <td>0.0</td>\n",
       "      <td>0.0</td>\n",
       "      <td>0.0</td>\n",
       "    </tr>\n",
       "    <tr>\n",
       "      <th>1</th>\n",
       "      <td>0.908425</td>\n",
       "      <td>0.783883</td>\n",
       "      <td>0.531136</td>\n",
       "      <td>0.362637</td>\n",
       "      <td>0.366300</td>\n",
       "      <td>0.344322</td>\n",
       "      <td>0.333333</td>\n",
       "      <td>0.307692</td>\n",
       "      <td>0.296703</td>\n",
       "      <td>0.300366</td>\n",
       "      <td>...</td>\n",
       "      <td>0.0</td>\n",
       "      <td>0.0</td>\n",
       "      <td>0.0</td>\n",
       "      <td>0.0</td>\n",
       "      <td>0.0</td>\n",
       "      <td>0.0</td>\n",
       "      <td>0.0</td>\n",
       "      <td>0.0</td>\n",
       "      <td>0.0</td>\n",
       "      <td>0.0</td>\n",
       "    </tr>\n",
       "    <tr>\n",
       "      <th>2</th>\n",
       "      <td>0.730088</td>\n",
       "      <td>0.212389</td>\n",
       "      <td>0.000000</td>\n",
       "      <td>0.119469</td>\n",
       "      <td>0.101770</td>\n",
       "      <td>0.101770</td>\n",
       "      <td>0.110619</td>\n",
       "      <td>0.123894</td>\n",
       "      <td>0.115044</td>\n",
       "      <td>0.132743</td>\n",
       "      <td>...</td>\n",
       "      <td>0.0</td>\n",
       "      <td>0.0</td>\n",
       "      <td>0.0</td>\n",
       "      <td>0.0</td>\n",
       "      <td>0.0</td>\n",
       "      <td>0.0</td>\n",
       "      <td>0.0</td>\n",
       "      <td>0.0</td>\n",
       "      <td>0.0</td>\n",
       "      <td>0.0</td>\n",
       "    </tr>\n",
       "    <tr>\n",
       "      <th>3</th>\n",
       "      <td>1.000000</td>\n",
       "      <td>0.910417</td>\n",
       "      <td>0.681250</td>\n",
       "      <td>0.472917</td>\n",
       "      <td>0.229167</td>\n",
       "      <td>0.068750</td>\n",
       "      <td>0.000000</td>\n",
       "      <td>0.004167</td>\n",
       "      <td>0.014583</td>\n",
       "      <td>0.054167</td>\n",
       "      <td>...</td>\n",
       "      <td>0.0</td>\n",
       "      <td>0.0</td>\n",
       "      <td>0.0</td>\n",
       "      <td>0.0</td>\n",
       "      <td>0.0</td>\n",
       "      <td>0.0</td>\n",
       "      <td>0.0</td>\n",
       "      <td>0.0</td>\n",
       "      <td>0.0</td>\n",
       "      <td>0.0</td>\n",
       "    </tr>\n",
       "    <tr>\n",
       "      <th>4</th>\n",
       "      <td>0.570470</td>\n",
       "      <td>0.399329</td>\n",
       "      <td>0.238255</td>\n",
       "      <td>0.147651</td>\n",
       "      <td>0.000000</td>\n",
       "      <td>0.003356</td>\n",
       "      <td>0.040268</td>\n",
       "      <td>0.080537</td>\n",
       "      <td>0.070470</td>\n",
       "      <td>0.090604</td>\n",
       "      <td>...</td>\n",
       "      <td>0.0</td>\n",
       "      <td>0.0</td>\n",
       "      <td>0.0</td>\n",
       "      <td>0.0</td>\n",
       "      <td>0.0</td>\n",
       "      <td>0.0</td>\n",
       "      <td>0.0</td>\n",
       "      <td>0.0</td>\n",
       "      <td>0.0</td>\n",
       "      <td>0.0</td>\n",
       "    </tr>\n",
       "    <tr>\n",
       "      <th>5</th>\n",
       "      <td>1.000000</td>\n",
       "      <td>0.923664</td>\n",
       "      <td>0.656489</td>\n",
       "      <td>0.195929</td>\n",
       "      <td>0.111959</td>\n",
       "      <td>0.175573</td>\n",
       "      <td>0.122137</td>\n",
       "      <td>0.050891</td>\n",
       "      <td>0.035623</td>\n",
       "      <td>0.055980</td>\n",
       "      <td>...</td>\n",
       "      <td>0.0</td>\n",
       "      <td>0.0</td>\n",
       "      <td>0.0</td>\n",
       "      <td>0.0</td>\n",
       "      <td>0.0</td>\n",
       "      <td>0.0</td>\n",
       "      <td>0.0</td>\n",
       "      <td>0.0</td>\n",
       "      <td>0.0</td>\n",
       "      <td>0.0</td>\n",
       "    </tr>\n",
       "    <tr>\n",
       "      <th>6</th>\n",
       "      <td>1.000000</td>\n",
       "      <td>0.797260</td>\n",
       "      <td>0.320548</td>\n",
       "      <td>0.043836</td>\n",
       "      <td>0.049315</td>\n",
       "      <td>0.065753</td>\n",
       "      <td>0.030137</td>\n",
       "      <td>0.008219</td>\n",
       "      <td>0.005479</td>\n",
       "      <td>0.010959</td>\n",
       "      <td>...</td>\n",
       "      <td>0.0</td>\n",
       "      <td>0.0</td>\n",
       "      <td>0.0</td>\n",
       "      <td>0.0</td>\n",
       "      <td>0.0</td>\n",
       "      <td>0.0</td>\n",
       "      <td>0.0</td>\n",
       "      <td>0.0</td>\n",
       "      <td>0.0</td>\n",
       "      <td>0.0</td>\n",
       "    </tr>\n",
       "    <tr>\n",
       "      <th>7</th>\n",
       "      <td>0.909408</td>\n",
       "      <td>0.975610</td>\n",
       "      <td>0.533101</td>\n",
       "      <td>0.134146</td>\n",
       "      <td>0.066202</td>\n",
       "      <td>0.000000</td>\n",
       "      <td>0.010453</td>\n",
       "      <td>0.012195</td>\n",
       "      <td>0.031359</td>\n",
       "      <td>0.146341</td>\n",
       "      <td>...</td>\n",
       "      <td>0.0</td>\n",
       "      <td>0.0</td>\n",
       "      <td>0.0</td>\n",
       "      <td>0.0</td>\n",
       "      <td>0.0</td>\n",
       "      <td>0.0</td>\n",
       "      <td>0.0</td>\n",
       "      <td>0.0</td>\n",
       "      <td>0.0</td>\n",
       "      <td>0.0</td>\n",
       "    </tr>\n",
       "    <tr>\n",
       "      <th>8</th>\n",
       "      <td>0.927803</td>\n",
       "      <td>0.866359</td>\n",
       "      <td>0.299539</td>\n",
       "      <td>0.000000</td>\n",
       "      <td>0.231951</td>\n",
       "      <td>0.317972</td>\n",
       "      <td>0.274962</td>\n",
       "      <td>0.262673</td>\n",
       "      <td>0.270353</td>\n",
       "      <td>0.268817</td>\n",
       "      <td>...</td>\n",
       "      <td>0.0</td>\n",
       "      <td>0.0</td>\n",
       "      <td>0.0</td>\n",
       "      <td>0.0</td>\n",
       "      <td>0.0</td>\n",
       "      <td>0.0</td>\n",
       "      <td>0.0</td>\n",
       "      <td>0.0</td>\n",
       "      <td>0.0</td>\n",
       "      <td>0.0</td>\n",
       "    </tr>\n",
       "    <tr>\n",
       "      <th>9</th>\n",
       "      <td>1.000000</td>\n",
       "      <td>0.914230</td>\n",
       "      <td>0.473684</td>\n",
       "      <td>0.000000</td>\n",
       "      <td>0.064327</td>\n",
       "      <td>0.317739</td>\n",
       "      <td>0.405458</td>\n",
       "      <td>0.391813</td>\n",
       "      <td>0.382066</td>\n",
       "      <td>0.401559</td>\n",
       "      <td>...</td>\n",
       "      <td>0.0</td>\n",
       "      <td>0.0</td>\n",
       "      <td>0.0</td>\n",
       "      <td>0.0</td>\n",
       "      <td>0.0</td>\n",
       "      <td>0.0</td>\n",
       "      <td>0.0</td>\n",
       "      <td>0.0</td>\n",
       "      <td>0.0</td>\n",
       "      <td>0.0</td>\n",
       "    </tr>\n",
       "    <tr>\n",
       "      <th>10</th>\n",
       "      <td>0.997429</td>\n",
       "      <td>0.861183</td>\n",
       "      <td>0.365039</td>\n",
       "      <td>0.071979</td>\n",
       "      <td>0.082262</td>\n",
       "      <td>0.100257</td>\n",
       "      <td>0.074550</td>\n",
       "      <td>0.051414</td>\n",
       "      <td>0.051414</td>\n",
       "      <td>0.043702</td>\n",
       "      <td>...</td>\n",
       "      <td>0.0</td>\n",
       "      <td>0.0</td>\n",
       "      <td>0.0</td>\n",
       "      <td>0.0</td>\n",
       "      <td>0.0</td>\n",
       "      <td>0.0</td>\n",
       "      <td>0.0</td>\n",
       "      <td>0.0</td>\n",
       "      <td>0.0</td>\n",
       "      <td>0.0</td>\n",
       "    </tr>\n",
       "    <tr>\n",
       "      <th>11</th>\n",
       "      <td>1.000000</td>\n",
       "      <td>0.933842</td>\n",
       "      <td>0.631043</td>\n",
       "      <td>0.185751</td>\n",
       "      <td>0.127226</td>\n",
       "      <td>0.195929</td>\n",
       "      <td>0.119593</td>\n",
       "      <td>0.048346</td>\n",
       "      <td>0.053435</td>\n",
       "      <td>0.073791</td>\n",
       "      <td>...</td>\n",
       "      <td>0.0</td>\n",
       "      <td>0.0</td>\n",
       "      <td>0.0</td>\n",
       "      <td>0.0</td>\n",
       "      <td>0.0</td>\n",
       "      <td>0.0</td>\n",
       "      <td>0.0</td>\n",
       "      <td>0.0</td>\n",
       "      <td>0.0</td>\n",
       "      <td>0.0</td>\n",
       "    </tr>\n",
       "    <tr>\n",
       "      <th>12</th>\n",
       "      <td>1.000000</td>\n",
       "      <td>0.800000</td>\n",
       "      <td>0.416794</td>\n",
       "      <td>0.116031</td>\n",
       "      <td>0.000000</td>\n",
       "      <td>0.093130</td>\n",
       "      <td>0.131298</td>\n",
       "      <td>0.093130</td>\n",
       "      <td>0.083969</td>\n",
       "      <td>0.080916</td>\n",
       "      <td>...</td>\n",
       "      <td>0.0</td>\n",
       "      <td>0.0</td>\n",
       "      <td>0.0</td>\n",
       "      <td>0.0</td>\n",
       "      <td>0.0</td>\n",
       "      <td>0.0</td>\n",
       "      <td>0.0</td>\n",
       "      <td>0.0</td>\n",
       "      <td>0.0</td>\n",
       "      <td>0.0</td>\n",
       "    </tr>\n",
       "    <tr>\n",
       "      <th>13</th>\n",
       "      <td>0.969697</td>\n",
       "      <td>1.000000</td>\n",
       "      <td>0.523232</td>\n",
       "      <td>0.147475</td>\n",
       "      <td>0.060606</td>\n",
       "      <td>0.014141</td>\n",
       "      <td>0.004040</td>\n",
       "      <td>0.006061</td>\n",
       "      <td>0.056566</td>\n",
       "      <td>0.206061</td>\n",
       "      <td>...</td>\n",
       "      <td>0.0</td>\n",
       "      <td>0.0</td>\n",
       "      <td>0.0</td>\n",
       "      <td>0.0</td>\n",
       "      <td>0.0</td>\n",
       "      <td>0.0</td>\n",
       "      <td>0.0</td>\n",
       "      <td>0.0</td>\n",
       "      <td>0.0</td>\n",
       "      <td>0.0</td>\n",
       "    </tr>\n",
       "    <tr>\n",
       "      <th>14</th>\n",
       "      <td>1.000000</td>\n",
       "      <td>0.909502</td>\n",
       "      <td>0.719457</td>\n",
       "      <td>0.538462</td>\n",
       "      <td>0.325792</td>\n",
       "      <td>0.144796</td>\n",
       "      <td>0.085973</td>\n",
       "      <td>0.113122</td>\n",
       "      <td>0.140271</td>\n",
       "      <td>0.117647</td>\n",
       "      <td>...</td>\n",
       "      <td>0.0</td>\n",
       "      <td>0.0</td>\n",
       "      <td>0.0</td>\n",
       "      <td>0.0</td>\n",
       "      <td>0.0</td>\n",
       "      <td>0.0</td>\n",
       "      <td>0.0</td>\n",
       "      <td>0.0</td>\n",
       "      <td>0.0</td>\n",
       "      <td>0.0</td>\n",
       "    </tr>\n",
       "  </tbody>\n",
       "</table>\n",
       "<p>15 rows × 188 columns</p>\n",
       "</div>"
      ],
      "text/plain": [
       "         0         1         2         3         4         5         6    \\\n",
       "0   1.000000  0.758264  0.111570  0.000000  0.080579  0.078512  0.066116   \n",
       "1   0.908425  0.783883  0.531136  0.362637  0.366300  0.344322  0.333333   \n",
       "2   0.730088  0.212389  0.000000  0.119469  0.101770  0.101770  0.110619   \n",
       "3   1.000000  0.910417  0.681250  0.472917  0.229167  0.068750  0.000000   \n",
       "4   0.570470  0.399329  0.238255  0.147651  0.000000  0.003356  0.040268   \n",
       "5   1.000000  0.923664  0.656489  0.195929  0.111959  0.175573  0.122137   \n",
       "6   1.000000  0.797260  0.320548  0.043836  0.049315  0.065753  0.030137   \n",
       "7   0.909408  0.975610  0.533101  0.134146  0.066202  0.000000  0.010453   \n",
       "8   0.927803  0.866359  0.299539  0.000000  0.231951  0.317972  0.274962   \n",
       "9   1.000000  0.914230  0.473684  0.000000  0.064327  0.317739  0.405458   \n",
       "10  0.997429  0.861183  0.365039  0.071979  0.082262  0.100257  0.074550   \n",
       "11  1.000000  0.933842  0.631043  0.185751  0.127226  0.195929  0.119593   \n",
       "12  1.000000  0.800000  0.416794  0.116031  0.000000  0.093130  0.131298   \n",
       "13  0.969697  1.000000  0.523232  0.147475  0.060606  0.014141  0.004040   \n",
       "14  1.000000  0.909502  0.719457  0.538462  0.325792  0.144796  0.085973   \n",
       "\n",
       "         7         8         9    ...  178  179  180  181  182  183  184  185  \\\n",
       "0   0.049587  0.047521  0.035124  ...  0.0  0.0  0.0  0.0  0.0  0.0  0.0  0.0   \n",
       "1   0.307692  0.296703  0.300366  ...  0.0  0.0  0.0  0.0  0.0  0.0  0.0  0.0   \n",
       "2   0.123894  0.115044  0.132743  ...  0.0  0.0  0.0  0.0  0.0  0.0  0.0  0.0   \n",
       "3   0.004167  0.014583  0.054167  ...  0.0  0.0  0.0  0.0  0.0  0.0  0.0  0.0   \n",
       "4   0.080537  0.070470  0.090604  ...  0.0  0.0  0.0  0.0  0.0  0.0  0.0  0.0   \n",
       "5   0.050891  0.035623  0.055980  ...  0.0  0.0  0.0  0.0  0.0  0.0  0.0  0.0   \n",
       "6   0.008219  0.005479  0.010959  ...  0.0  0.0  0.0  0.0  0.0  0.0  0.0  0.0   \n",
       "7   0.012195  0.031359  0.146341  ...  0.0  0.0  0.0  0.0  0.0  0.0  0.0  0.0   \n",
       "8   0.262673  0.270353  0.268817  ...  0.0  0.0  0.0  0.0  0.0  0.0  0.0  0.0   \n",
       "9   0.391813  0.382066  0.401559  ...  0.0  0.0  0.0  0.0  0.0  0.0  0.0  0.0   \n",
       "10  0.051414  0.051414  0.043702  ...  0.0  0.0  0.0  0.0  0.0  0.0  0.0  0.0   \n",
       "11  0.048346  0.053435  0.073791  ...  0.0  0.0  0.0  0.0  0.0  0.0  0.0  0.0   \n",
       "12  0.093130  0.083969  0.080916  ...  0.0  0.0  0.0  0.0  0.0  0.0  0.0  0.0   \n",
       "13  0.006061  0.056566  0.206061  ...  0.0  0.0  0.0  0.0  0.0  0.0  0.0  0.0   \n",
       "14  0.113122  0.140271  0.117647  ...  0.0  0.0  0.0  0.0  0.0  0.0  0.0  0.0   \n",
       "\n",
       "    186  187  \n",
       "0   0.0  0.0  \n",
       "1   0.0  0.0  \n",
       "2   0.0  0.0  \n",
       "3   0.0  0.0  \n",
       "4   0.0  0.0  \n",
       "5   0.0  0.0  \n",
       "6   0.0  0.0  \n",
       "7   0.0  0.0  \n",
       "8   0.0  0.0  \n",
       "9   0.0  0.0  \n",
       "10  0.0  0.0  \n",
       "11  0.0  0.0  \n",
       "12  0.0  0.0  \n",
       "13  0.0  0.0  \n",
       "14  0.0  0.0  \n",
       "\n",
       "[15 rows x 188 columns]"
      ]
     },
     "execution_count": 15,
     "metadata": {},
     "output_type": "execute_result"
    }
   ],
   "source": [
    "test_df.head(15)"
   ]
  },
  {
   "cell_type": "code",
   "execution_count": 16,
   "metadata": {},
   "outputs": [
    {
     "name": "stdout",
     "output_type": "stream",
     "text": [
      "(21892, 188)\n"
     ]
    }
   ],
   "source": [
    "print(test_df.shape)"
   ]
  },
  {
   "cell_type": "code",
   "execution_count": 17,
   "metadata": {},
   "outputs": [
    {
     "name": "stdout",
     "output_type": "stream",
     "text": [
      "0 8507\n",
      "1 16139\n",
      "2 17462\n",
      "3 15054\n",
      "4 15217\n",
      "5 15453\n",
      "6 15565\n",
      "7 15672\n",
      "8 15641\n",
      "9 15562\n",
      "10 15615\n",
      "11 15713\n",
      "12 15740\n",
      "13 15729\n",
      "14 15872\n",
      "15 16053\n",
      "16 16004\n",
      "17 16205\n",
      "18 16240\n",
      "19 16416\n",
      "20 16452\n",
      "21 16474\n",
      "22 16626\n",
      "23 16708\n",
      "24 16706\n",
      "25 16807\n",
      "26 16836\n",
      "27 16918\n",
      "28 17146\n",
      "29 17148\n",
      "30 17116\n",
      "31 17051\n",
      "32 17042\n",
      "33 16954\n",
      "34 16988\n",
      "35 16935\n",
      "36 16900\n",
      "37 16922\n",
      "38 16841\n",
      "39 16821\n",
      "40 16794\n",
      "41 16665\n",
      "42 16616\n",
      "43 16592\n",
      "44 16550\n",
      "45 16460\n",
      "46 16390\n",
      "47 16314\n",
      "48 16306\n",
      "49 16227\n",
      "50 16288\n",
      "51 16241\n",
      "52 16316\n",
      "53 16241\n",
      "54 16286\n",
      "55 16226\n",
      "56 16244\n",
      "57 16277\n",
      "58 16151\n",
      "59 16192\n",
      "60 16315\n",
      "61 16358\n",
      "62 16299\n",
      "63 16222\n",
      "64 16322\n",
      "65 16265\n",
      "66 16178\n",
      "67 16159\n",
      "68 16134\n",
      "69 16007\n",
      "70 15975\n",
      "71 15992\n",
      "72 15800\n",
      "73 15813\n",
      "74 15722\n",
      "75 15622\n",
      "76 15577\n",
      "77 15435\n",
      "78 15320\n",
      "79 15153\n",
      "80 14914\n",
      "81 14849\n",
      "82 14669\n",
      "83 14526\n",
      "84 14373\n",
      "85 14385\n",
      "86 14235\n",
      "87 14100\n",
      "88 13890\n",
      "89 13688\n",
      "90 13508\n",
      "91 13311\n",
      "92 13111\n",
      "93 12931\n",
      "94 12624\n",
      "95 12471\n",
      "96 12303\n",
      "97 12052\n",
      "98 11785\n",
      "99 11549\n",
      "100 11390\n",
      "101 11170\n",
      "102 10902\n",
      "103 10530\n",
      "104 10322\n",
      "105 9942\n",
      "106 9664\n",
      "107 9415\n",
      "108 9136\n",
      "109 8892\n",
      "110 8666\n",
      "111 8471\n",
      "112 8271\n",
      "113 8054\n",
      "114 7895\n",
      "115 7802\n",
      "116 7554\n",
      "117 7280\n",
      "118 7121\n",
      "119 6760\n",
      "120 6500\n",
      "121 6207\n",
      "122 5947\n",
      "123 5716\n",
      "124 5468\n",
      "125 5194\n",
      "126 4948\n",
      "127 4758\n",
      "128 4591\n",
      "129 4395\n",
      "130 4237\n",
      "131 4094\n",
      "132 3939\n",
      "133 3814\n",
      "134 3692\n",
      "135 3526\n",
      "136 3403\n",
      "137 3281\n",
      "138 3154\n",
      "139 3025\n",
      "140 2919\n",
      "141 2780\n",
      "142 2645\n",
      "143 2580\n",
      "144 2472\n",
      "145 2348\n",
      "146 2254\n",
      "147 2157\n",
      "148 2071\n",
      "149 1959\n",
      "150 1882\n",
      "151 1800\n",
      "152 1734\n",
      "153 1654\n",
      "154 1602\n",
      "155 1548\n",
      "156 1478\n",
      "157 1440\n",
      "158 1374\n",
      "159 1321\n",
      "160 1284\n",
      "161 1217\n",
      "162 1145\n",
      "163 1096\n",
      "164 1048\n",
      "165 990\n",
      "166 924\n",
      "167 862\n",
      "168 793\n",
      "169 719\n",
      "170 656\n",
      "171 586\n",
      "172 531\n",
      "173 481\n",
      "174 443\n",
      "175 392\n",
      "176 369\n",
      "177 330\n",
      "178 306\n",
      "179 284\n",
      "180 264\n",
      "181 252\n",
      "182 236\n",
      "183 228\n",
      "184 208\n",
      "185 194\n",
      "186 184\n",
      "187 5\n"
     ]
    }
   ],
   "source": [
    "for p in test_df:\n",
    "    print(p, test_df[p].nunique())"
   ]
  },
  {
   "cell_type": "code",
   "execution_count": 18,
   "metadata": {},
   "outputs": [],
   "source": [
    "numbervalue = pd.value_counts(test_df[187],sort=True)"
   ]
  },
  {
   "cell_type": "code",
   "execution_count": 19,
   "metadata": {},
   "outputs": [
    {
     "name": "stdout",
     "output_type": "stream",
     "text": [
      "(5,)\n"
     ]
    }
   ],
   "source": [
    "print(numbervalue.shape)"
   ]
  },
  {
   "cell_type": "code",
   "execution_count": 20,
   "metadata": {},
   "outputs": [
    {
     "data": {
      "text/plain": [
       "<matplotlib.axes._subplots.AxesSubplot at 0x7f3a3374b210>"
      ]
     },
     "execution_count": 20,
     "metadata": {},
     "output_type": "execute_result"
    },
    {
     "data": {
      "image/png": "[encoded data removed]",
      "text/plain": [
       "<Figure size 432x288 with 1 Axes>"
      ]
     },
     "metadata": {
      "needs_background": "light"
     },
     "output_type": "display_data"
    }
   ],
   "source": [
    "numbervalue.plot.bar()"
   ]
  },
  {
   "cell_type": "code",
   "execution_count": 6,
   "metadata": {},
   "outputs": [],
   "source": [
    "#converting the dataframe to numpy array\n",
    "array=train_df.to_numpy()"
   ]
  },
  {
   "cell_type": "code",
   "execution_count": 7,
   "metadata": {},
   "outputs": [
    {
     "name": "stdout",
     "output_type": "stream",
     "text": [
      "(87554, 187)\n",
      "(87554,)\n"
     ]
    }
   ],
   "source": [
    "#dividing the training data into dataset and labels\n",
    "\n",
    "X=array[:,:-1]#dataset\n",
    "y=array[:,-1]#labels\n",
    "print(X.shape)\n",
    "print(y.shape)"
   ]
  },
  {
   "cell_type": "code",
   "execution_count": 13,
   "metadata": {},
   "outputs": [],
   "source": [
    "from sklearn.manifold import TSNE"
   ]
  },
  {
   "cell_type": "code",
   "execution_count": 24,
   "metadata": {},
   "outputs": [],
   "source": [
    "array_t=shuffle(array)#shuffeling the data to apply TSNE"
   ]
  },
  {
   "cell_type": "code",
   "execution_count": 25,
   "metadata": {},
   "outputs": [],
   "source": [
    "X_t=array_t[:,:-1]#shuffle dataset\n",
    "y_t=array_t[:,-1]#shuffle labels\n",
    "X_reduce=X_t[1:10000]#reducing the no of data for TSNE\n",
    "y_reduce=y_t[1:10000]"
   ]
  },
  {
   "cell_type": "code",
   "execution_count": 26,
   "metadata": {},
   "outputs": [
    {
     "name": "stdout",
     "output_type": "stream",
     "text": [
      "[[ 35.612865 ]\n",
      " [-63.00628  ]\n",
      " [-19.32578  ]\n",
      " ...\n",
      " [-33.080036 ]\n",
      " [  3.0725927]\n",
      " [-30.310715 ]]\n"
     ]
    }
   ],
   "source": [
    "#reducing the number of the features to 1 for visualization\n",
    "Final_X=TSNE(n_components=1, perplexity=30).fit_transform(X_reduce)#produce 2 dim data\n",
    "print(Final_X)"
   ]
  },
  {
   "cell_type": "code",
   "execution_count": 27,
   "metadata": {},
   "outputs": [],
   "source": [
    "import seaborn as sns"
   ]
  },
  {
   "cell_type": "code",
   "execution_count": 28,
   "metadata": {},
   "outputs": [],
   "source": [
    "Final_X=Final_X.reshape(-1)#reshaping 2 dim data to 1 dim for plotting "
   ]
  },
  {
   "cell_type": "code",
   "execution_count": 29,
   "metadata": {},
   "outputs": [
    {
     "data": {
      "text/plain": [
       "(9999,)"
      ]
     },
     "execution_count": 29,
     "metadata": {},
     "output_type": "execute_result"
    }
   ],
   "source": [
    "Final_X.shape"
   ]
  },
  {
   "cell_type": "code",
   "execution_count": 30,
   "metadata": {},
   "outputs": [
    {
     "data": {
      "text/plain": [
       "<matplotlib.axes._subplots.AxesSubplot at 0x7f3a30ea7a10>"
      ]
     },
     "execution_count": 30,
     "metadata": {},
     "output_type": "execute_result"
    },
    {
     "data": {
      "image/png": "[encoded data removed]",
      "text/plain": [
       "<Figure size 864x720 with 1 Axes>"
      ]
     },
     "metadata": {
      "needs_background": "light"
     },
     "output_type": "display_data"
    }
   ],
   "source": [
    "#visualizing the data using tsne\n",
    "\n",
    "plt.figure(figsize=(12,10))\n",
    "sns.scatterplot(Final_X,y_reduce)\n",
    "#Hence there is no outliers in the data"
   ]
  },
  {
   "cell_type": "code",
   "execution_count": null,
   "metadata": {},
   "outputs": [],
   "source": []
  },
  {
   "cell_type": "code",
   "execution_count": 8,
   "metadata": {},
   "outputs": [],
   "source": [
    "# storing the indices of the labels\n",
    "index0=np.argwhere(y==0).flatten()#flattering the array obtained from argwhere\n",
    "index1=np.argwhere(y==1).flatten()\n",
    "index2=np.argwhere(y==2).flatten()\n",
    "index3=np.argwhere(y==3).flatten()\n",
    "index4=np.argwhere(y==4).flatten()\n"
   ]
  },
  {
   "cell_type": "code",
   "execution_count": 9,
   "metadata": {},
   "outputs": [
    {
     "data": {
      "text/plain": [
       "Text(0.5, 1.0, 'Ecg signal for particular class')"
      ]
     },
     "execution_count": 9,
     "metadata": {},
     "output_type": "execute_result"
    },
    {
     "data": {
      "image/png": "[encoded data removed]",
      "text/plain": [
       "<Figure size 1440x720 with 1 Axes>"
      ]
     },
     "metadata": {
      "needs_background": "light"
     },
     "output_type": "display_data"
    }
   ],
   "source": [
    "#plotting the classes of arrhythmia\n",
    "plt.figure(figsize=(20,10))\n",
    "x=np.arange(187)\n",
    "plt.plot(X[index0][0],label='Class0')\n",
    "plt.plot(X[index1][0],label='Class1')\n",
    "plt.plot(X[index2][0],label='Class2')\n",
    "plt.plot(X[index3][0],label='Class3')\n",
    "plt.plot(X[index4][0],label='Class4')\n",
    "plt.legend()\n",
    "plt.xlabel('Time')\n",
    "plt.ylabel('Amplitude')\n",
    "plt.title('Ecg signal for particular class')\n"
   ]
  },
  {
   "cell_type": "code",
   "execution_count": 10,
   "metadata": {},
   "outputs": [],
   "source": [
    " from scipy.signal import resample"
   ]
  },
  {
   "cell_type": "code",
   "execution_count": 11,
   "metadata": {},
   "outputs": [],
   "source": [
    "#feature scaling\n",
    "def changing_features(x):\n",
    "    #length=int(187*(1+(random.random()-0.5)/4))#value of length range between 162<length<210\n",
    "    length=200\n",
    "    y=resample(x,length)\n",
    "    new_y=np.zeros(shape=(187,))\n",
    "    if length<187:\n",
    "        new_y[:length]=y\n",
    "    else:\n",
    "        new_y=y[:187]\n",
    "    return new_y    \n",
    " \n",
    "       \n",
    "    \n",
    "\n",
    "        "
   ]
  },
  {
   "cell_type": "code",
   "execution_count": 12,
   "metadata": {},
   "outputs": [
    {
     "data": {
      "text/plain": [
       "(187,)"
      ]
     },
     "execution_count": 12,
     "metadata": {},
     "output_type": "execute_result"
    }
   ],
   "source": [
    "changing_features(x).shape"
   ]
  },
  {
   "cell_type": "code",
   "execution_count": 13,
   "metadata": {},
   "outputs": [],
   "source": [
    "def amplitute(x):\n",
    "    length = (random.random()-0.5)\n",
    "    factor = -length*x + (1+length)\n",
    "    return x*factor\n",
    "    "
   ]
  },
  {
   "cell_type": "code",
   "execution_count": 14,
   "metadata": {},
   "outputs": [],
   "source": [
    "       \n",
    "def scaling(x):\n",
    "    last=np.zeros(shape=(4,187))\n",
    "    length=random.random()\n",
    "    for i in range(0,4):\n",
    "        if length<0.33:\n",
    "            interim=changing_features(x)\n",
    "        elif length<0.66:\n",
    "            interim=amplitute(x)\n",
    "        else: \n",
    "            interim=changing_features(x)\n",
    "            interim=amplitute(x)\n",
    "    last[i,:]=interim\n",
    "    return last\n",
    "        \n",
    "        \n",
    "    \n",
    "       "
   ]
  },
  {
   "cell_type": "code",
   "execution_count": 15,
   "metadata": {},
   "outputs": [
    {
     "data": {
      "text/plain": [
       "<matplotlib.legend.Legend at 0x7f60026fbd90>"
      ]
     },
     "execution_count": 15,
     "metadata": {},
     "output_type": "execute_result"
    },
    {
     "data": {
      "image/png": "[encoded data removed]",
      "text/plain": [
       "<Figure size 864x288 with 1 Axes>"
      ]
     },
     "metadata": {
      "needs_background": "light"
     },
     "output_type": "display_data"
    }
   ],
   "source": [
    "#plotting amplified and stretch waves \n",
    "plt.figure(figsize=(12,4))\n",
    "plt.plot(X[index0][0],label='normal')\n",
    "plt.plot(changing_features(X[index0][0]),label='changing_features')\n",
    "plt.plot(amplitute(X[index0][0]),label='amplitute')\n",
    "plt.legend()"
   ]
  },
  {
   "cell_type": "code",
   "execution_count": 16,
   "metadata": {},
   "outputs": [],
   "source": [
    "#As class3 has only 641 datapoints so by amplyfying and sretching these singal we add another 1923 datapoint of this signal\n",
    "result=np.apply_along_axis(scaling,axis=1,arr=X[index3]).reshape(-1,187)"
   ]
  },
  {
   "cell_type": "code",
   "execution_count": 17,
   "metadata": {},
   "outputs": [],
   "source": [
    "#Creating 1923 labels for created signals\n",
    "label=np.ones((result.shape[0],),dtype=int)*3\n"
   ]
  },
  {
   "cell_type": "code",
   "execution_count": 18,
   "metadata": {},
   "outputs": [],
   "source": [
    "#Including these 1923 datapoints in our dataset\n",
    "X=np.vstack((X,result))\n",
    "y=np.hstack((y,label))"
   ]
  },
  {
   "cell_type": "code",
   "execution_count": 70,
   "metadata": {},
   "outputs": [],
   "source": [
    "#selecting datas to create cross validation\n",
    "cross0=np.random.choice(index0,400)\n",
    "cross1=np.random.choice(index1,400)\n",
    "cross2=np.random.choice(index2,400)\n",
    "cross3=np.random.choice(index3,400)\n",
    "cross4=np.random.choice(index4,400)\n",
    "\n",
    "\n"
   ]
  },
  {
   "cell_type": "code",
   "execution_count": 147,
   "metadata": {},
   "outputs": [],
   "source": [
    "# creating cross validation\n",
    "X_val=[X[cross0],X[cross1],X[cross2],X[cross3],X[cross4]]\n",
    "X_val=np.array(X_val).reshape(-1,187)#changing 3 dim to 2 dim\n",
    "y_val=[y[cross0],y[cross1],y[cross2],y[cross3],y[cross4]]\n",
    "y_val=np.array(y_val).reshape(-1)#changing 2 dim to 1\n",
    "X_val, y_val = shuffle(X_val, y_val, random_state=0)"
   ]
  },
  {
   "cell_type": "code",
   "execution_count": 148,
   "metadata": {},
   "outputs": [],
   "source": [
    "#creating X_train\n",
    "X_train=np.delete(X,[cross0,cross1,cross2,cross3,cross4],axis=0)\n",
    "y_train=np.delete(y,[cross0,cross1,cross2,cross3,cross4],axis=0)\n",
    "X_train, y_train = shuffle(X_train, y_train, random_state=0)"
   ]
  },
  {
   "cell_type": "code",
   "execution_count": 149,
   "metadata": {},
   "outputs": [
    {
     "data": {
      "text/plain": [
       "(88280, 187)"
      ]
     },
     "execution_count": 149,
     "metadata": {},
     "output_type": "execute_result"
    }
   ],
   "source": [
    "X_train.shape"
   ]
  },
  {
   "cell_type": "code",
   "execution_count": 150,
   "metadata": {
    "scrolled": true
   },
   "outputs": [],
   "source": [
    "from sklearn.preprocessing import OneHotEncoder\n",
    "\n",
    "X_train = np.expand_dims(X_train, 2)\n",
    "X_val = np.expand_dims(X_val, 2)\n",
    "\n"
   ]
  },
  {
   "cell_type": "code",
   "execution_count": 151,
   "metadata": {},
   "outputs": [
    {
     "data": {
      "text/plain": [
       "(88280, 187, 1)"
      ]
     },
     "execution_count": 151,
     "metadata": {},
     "output_type": "execute_result"
    }
   ],
   "source": [
    "X_train.shape"
   ]
  },
  {
   "cell_type": "code",
   "execution_count": 152,
   "metadata": {},
   "outputs": [
    {
     "data": {
      "text/plain": [
       "array([0., 0., 0., ..., 0., 0., 0.])"
      ]
     },
     "execution_count": 152,
     "metadata": {},
     "output_type": "execute_result"
    }
   ],
   "source": [
    "y_train"
   ]
  },
  {
   "cell_type": "code",
   "execution_count": 153,
   "metadata": {},
   "outputs": [
    {
     "data": {
      "text/plain": [
       "array([[0.],\n",
       "       [0.],\n",
       "       [0.],\n",
       "       ...,\n",
       "       [0.],\n",
       "       [0.],\n",
       "       [0.]])"
      ]
     },
     "execution_count": 153,
     "metadata": {},
     "output_type": "execute_result"
    }
   ],
   "source": [
    "y_train.reshape(-1,1)"
   ]
  },
  {
   "cell_type": "code",
   "execution_count": 154,
   "metadata": {},
   "outputs": [
    {
     "data": {
      "text/plain": [
       "(88280,)"
      ]
     },
     "execution_count": 154,
     "metadata": {},
     "output_type": "execute_result"
    }
   ],
   "source": [
    "y_train.shape"
   ]
  },
  {
   "cell_type": "code",
   "execution_count": 155,
   "metadata": {},
   "outputs": [
    {
     "name": "stdout",
     "output_type": "stream",
     "text": [
      "X_train (88280, 187, 1)\n",
      "y_train (88280, 5)\n",
      "X_val (2000, 187, 1)\n",
      "y_val (2000, 5)\n"
     ]
    }
   ],
   "source": [
    "\n",
    "ohe = OneHotEncoder()\n",
    "\n",
    "y_train = ohe.fit_transform(y_train.reshape(-1,1))\n",
    "y_val = ohe.transform(y_val.reshape(-1,1))\n",
    "\n",
    "print(\"X_train\", X_train.shape)\n",
    "print(\"y_train\", y_train.shape)\n",
    "print(\"X_val\", X_val.shape)\n",
    "print(\"y_val\", y_val.shape)\n",
    "\n"
   ]
  },
  {
   "cell_type": "code",
   "execution_count": 124,
   "metadata": {},
   "outputs": [
    {
     "data": {
      "text/plain": [
       "(88280, 5)"
      ]
     },
     "execution_count": 124,
     "metadata": {},
     "output_type": "execute_result"
    }
   ],
   "source": [
    "y_train.shape"
   ]
  },
  {
   "cell_type": "code",
   "execution_count": 85,
   "metadata": {},
   "outputs": [],
   "source": [
    "ohe = OneHotEncoder()"
   ]
  },
  {
   "cell_type": "code",
   "execution_count": 61,
   "metadata": {},
   "outputs": [],
   "source": [
    "\n",
    "n_obs, feature, depth = X_train.shape\n",
    "batch_size = 500"
   ]
  },
  {
   "cell_type": "code",
   "execution_count": 30,
   "metadata": {},
   "outputs": [],
   "source": [
    "import keras.layers.convolutional as Conv1D\n",
    "import keras.models as Model\n",
    "import keras\n",
    "from keras import backend as k\n",
    "from keras.layers import Input\n",
    "from keras.layers import Activation,Softmax,Flatten,Dense\n",
    "from keras.layers import Input\n",
    "\n",
    "k.clear_session()\n"
   ]
  },
  {
   "cell_type": "code",
   "execution_count": null,
   "metadata": {},
   "outputs": [],
   "source": [
    "# Being 1 CNN defining 2D inputs with same padding so as to obtain the 2D output from softmax classification\n",
    "\n",
    "from keras.layers.convolutional import Conv1D\n",
    "from keras.models import Model\n",
    "import keras\n",
    "from keras import backend as K\n",
    "from keras.layers import Input\n",
    "from keras.layers import Activation, Dense ,Flatten , Softmax\n",
    "from keras.layers import Layer\n",
    "from keras.layers import Add,MaxPooling1D\n",
    "\n",
    "\n",
    "K.clear_session()\n",
    "\n",
    "inp = Input(shape=(feature, depth))\n",
    "C = Conv1D(filters=32, kernel_size=5, strides=1)(inp)\n",
    "\n",
    "C11 = Conv1D(filters=32, kernel_size=5, strides=1, padding='same')(C)\n",
    "A11 = Activation(\"relu\")(C11)\n",
    "C12 = Conv1D(filters=32, kernel_size=5, strides=1, padding='same')(A11)\n",
    "S11 = Add()([C12, C])\n",
    "A12 = Activation(\"relu\")(S11)\n",
    "M11 = MaxPooling1D(pool_size=5, strides=2)(A12)\n",
    "\n",
    "\n",
    "C21 = Conv1D(filters=32, kernel_size=5, strides=1, padding='same')(M11)\n",
    "A21 = Activation(\"relu\")(C21)\n",
    "C22 = Conv1D(filters=32, kernel_size=5, strides=1, padding='same')(A21)\n",
    "S21 = Add()([C22, M11])\n",
    "A22 = Activation(\"relu\")(S11)\n",
    "M21 = MaxPooling1D(pool_size=5, strides=2)(A22)\n",
    "\n",
    "C31 =Conv1D(filters =32,kernel_size =5,strides =1,padding ='same')(M21)\n",
    "A31 =Activation(\"relu\")(C31)\n",
    "C32 =Conv1D(filters =32, kernel_size =5, strides =1,padding ='same')(A31)\n",
    "S31 =Add()([C32,M21])\n",
    "A32 =Activation(\"relu\")(S31)\n",
    "M31 =MaxPooling1D(pool_size=5, strides=2)(A32)\n",
    "\n",
    "\n",
    "C41 =Conv1D(filters =32,kernel_size =5,strides =1,padding ='same')(M31)\n",
    "A41 =Activation(\"relu\")(C41)\n",
    "C42 =Conv1D(filters =32, kernel_size =5, strides =1,padding ='same')(A41)\n",
    "S41 =Add()([C42,M31])\n",
    "A42 =Activation(\"relu\")(S41)\n",
    "M41 =MaxPooling1D(pool_size=5, strides=2)(A42)\n",
    "\n",
    "\n",
    "C51 =Conv1D(filters =32,kernel_size =5,strides =1,padding ='same')(M41)\n",
    "A51 =Activation(\"relu\")(C51)\n",
    "C52 =Conv1D(filters =32, kernel_size =5, strides =1,padding ='same')(A51)\n",
    "S51 =Add()([C52,M41])\n",
    "A52 =Activation(\"relu\")(S51)\n",
    "M51 =MaxPooling1D(pool_size=5, strides=2)(A52)\n",
    "\n"
   ]
  },
  {
   "cell_type": "code",
   "execution_count": null,
   "metadata": {},
   "outputs": [],
   "source": [
    "\n"
   ]
  }
 ],
 "metadata": {
  "kernelspec": {
   "display_name": "Python 3",
   "language": "python",
   "name": "python3"
  },
  "language_info": {
   "codemirror_mode": {
    "name": "ipython",
    "version": 3
   },
   "file_extension": ".py",
   "mimetype": "text/x-python",
   "name": "python",
   "nbconvert_exporter": "python",
   "pygments_lexer": "ipython3",
   "version": "3.7.4"
  }
 },
 "nbformat": 4,
 "nbformat_minor": 2
}
